{
 "cells": [
  {
   "cell_type": "code",
   "execution_count": 2,
   "id": "afe9b85f",
   "metadata": {},
   "outputs": [
    {
     "ename": "ModuleNotFoundError",
     "evalue": "No module named 'spacy'",
     "output_type": "error",
     "traceback": [
      "\u001b[0;31m---------------------------------------------------------------------------\u001b[0m",
      "\u001b[0;31mModuleNotFoundError\u001b[0m                       Traceback (most recent call last)",
      "Cell \u001b[0;32mIn[2], line 1\u001b[0m\n\u001b[0;32m----> 1\u001b[0m \u001b[39mimport\u001b[39;00m \u001b[39mspacy\u001b[39;00m\n\u001b[1;32m      2\u001b[0m \u001b[39m#loading the english language small model of spacy\u001b[39;00m\n\u001b[1;32m      3\u001b[0m en \u001b[39m=\u001b[39m spacy\u001b[39m.\u001b[39mload(\u001b[39m'\u001b[39m\u001b[39men_core_web_sm\u001b[39m\u001b[39m'\u001b[39m)\n",
      "\u001b[0;31mModuleNotFoundError\u001b[0m: No module named 'spacy'"
     ]
    }
   ],
   "source": [
    "import spacy\n",
    "#loading the english language small model of spacy\n",
    "en = spacy.load('en_core_web_sm')\n",
    "stopwords = en.Defaults.stop_words\n",
    "\n",
    "print(len(stopwords))\n",
    "print(stopwords)"
   ]
  },
  {
   "cell_type": "code",
   "execution_count": 2,
   "id": "cf34e27a",
   "metadata": {},
   "outputs": [
    {
     "name": "stdout",
     "output_type": "stream",
     "text": [
      "^C\n",
      "Note: you may need to restart the kernel to use updated packages.\n"
     ]
    }
   ],
   "source": [
    "pip install spacy"
   ]
  },
  {
   "cell_type": "code",
   "execution_count": 6,
   "id": "84034c2a",
   "metadata": {},
   "outputs": [
    {
     "name": "stdout",
     "output_type": "stream",
     "text": [
      "Tommorow False\n",
      "will True\n",
      "be True\n",
      "too True\n",
      "late False\n",
      ", False\n",
      "its True\n",
      "now True\n",
      "or True\n",
      "never True\n"
     ]
    }
   ],
   "source": [
    "import spacy\n",
    "\n",
    "nlp = spacy.load(\"en_core_web_sm\")\n",
    "doc = nlp(\"Tommorow will be too late, its now or never\")\n",
    "\n",
    "for token in doc:\n",
    "    print(token.text,token.is_stop)"
   ]
  },
  {
   "cell_type": "code",
   "execution_count": 7,
   "id": "0bd046f9",
   "metadata": {},
   "outputs": [
    {
     "name": "stdout",
     "output_type": "stream",
     "text": [
      "Original text  :   we will show how to remove stopwords using spacy library\n",
      "Text after removing stopwords  :    remove stopwords spacy library\n"
     ]
    }
   ],
   "source": [
    "import spacy\n",
    "#loading the english language small model of spacy\n",
    "en = spacy.load('en_core_web_sm')\n",
    "stopwords = en.Defaults.stop_words\n",
    "\n",
    "text = \" we will show how to remove stopwords using spacy library\"\n",
    "\n",
    "lst=[]\n",
    "for token in text.split():\n",
    "    if token.lower() not in stopwords:    #checking whether the word is not \n",
    "        lst.append(token)                    #present in the stopword list.\n",
    "        \n",
    "#Join items in the list\n",
    "print(\"Original text  : \",text)\n",
    "print(\"Text after removing stopwords  :   \",' '.join(lst))"
   ]
  },
  {
   "cell_type": "code",
   "execution_count": 9,
   "id": "9f247f06",
   "metadata": {},
   "outputs": [
    {
     "data": {
      "text/plain": [
       "57"
      ]
     },
     "execution_count": 9,
     "metadata": {},
     "output_type": "execute_result"
    }
   ],
   "source": [
    "len(text)"
   ]
  },
  {
   "cell_type": "code",
   "execution_count": 18,
   "id": "77f7a5bf",
   "metadata": {},
   "outputs": [
    {
     "data": {
      "text/plain": [
       "57"
      ]
     },
     "execution_count": 18,
     "metadata": {},
     "output_type": "execute_result"
    }
   ],
   "source": [
    "len(text)"
   ]
  },
  {
   "cell_type": "code",
   "execution_count": null,
   "id": "b3cfe00a",
   "metadata": {},
   "outputs": [],
   "source": [
    "len(lst)"
   ]
  },
  {
   "cell_type": "code",
   "execution_count": 15,
   "id": "7bc4a92b",
   "metadata": {},
   "outputs": [],
   "source": [
    "list_check= ' '.join(lst)"
   ]
  },
  {
   "cell_type": "code",
   "execution_count": 19,
   "id": "926823e6",
   "metadata": {},
   "outputs": [
    {
     "data": {
      "text/plain": [
       "30"
      ]
     },
     "execution_count": 19,
     "metadata": {},
     "output_type": "execute_result"
    }
   ],
   "source": [
    "len(list_check)"
   ]
  },
  {
   "cell_type": "code",
   "execution_count": 16,
   "id": "767315a3",
   "metadata": {},
   "outputs": [
    {
     "data": {
      "text/plain": [
       "'remove stopwords spacy library'"
      ]
     },
     "execution_count": 16,
     "metadata": {},
     "output_type": "execute_result"
    }
   ],
   "source": [
    "list_check"
   ]
  },
  {
   "cell_type": "code",
   "execution_count": 28,
   "id": "c40bfe49",
   "metadata": {},
   "outputs": [],
   "source": [
    "new_text= \"\"\"In its response to 9/11, America has shown itself to be not only a hyperpower but increasingly assertive and ready\n",
    "to use its dominance as a hyperpower. After declaring a War on Terrorism, America has led two conventional\n",
    "wars, in Afghanistan and Iraq, demonstrating its overwhelmingly awesome military might. But these campaigns\n",
    "reveal something more: America’s willingness to have recourse to arms as appropriate and legitimate means to\n",
    "secure its interests and bolster its security. It has set forth a new doctrine: the right of pre-emptive strike when it\n",
    "considers its security, and therefore its national interests, to be at risk. The essence of this doctrine is the real\n",
    "meaning of hyperpower.\n",
    "Prime Minister Tony Blair has consistently argued that the only option in the face of hyperpower is to offer wise\n",
    "counsel. But increasingly this is a course that governments and people across the world have refused. The\n",
    "mobilisation for war against Iraq split the United Nations and provoked the largest anti-war demonstrations the\n",
    "world has ever seen. And through it all, America maintained its determination to wage war alone if necessary and\n",
    "not to be counselled by the concerns of supposedly allied governments when they faithfully represented the wishes\n",
    "of their electorates. Rather than engaging in debate, the American government expressed its exasperation. The\n",
    "influential new breed of neoconservative radio and television hosts went much further. They acted as ringmasters\n",
    "for outpourings of public scorn that saw French fries renamed ‘freedom fries’ and moves to boycott French and\n",
    "German produce across America. If one sound-bite can capture a mood, then perhaps it would be Fox News’ Bill\n",
    "O’Reilly. At the height of the tension over a second Security Council resolution to legitimate war in Iraq, Mr\n",
    "O’Reilly told his viewers that the bottom line was security, the security of his family, and in that matter ‘There’s\n",
    "no moral equivalence between the US and Belgium’. It is, in effect, the ethos of hyperpower articulated and made\n",
    "manifest in the public domain of 24-hour talk. And America’s willingness to prosecute war has raised innumerable\n",
    "questions about how it engages with other countries. Afghanistan has seen the removal of the Taliban. But there\n",
    "are no official statistics on the number of innocent civilians dead and injured to achieve that security objective.\n",
    "The people of Afghanistan have witnessed a descent into the chaos that preceded the arrival of the Taliban, a\n",
    "country administered not by a new era of democracy under the tutelage of the hyperpower, but merely by the\n",
    "return of the warlords. Beyond Kabul, much of the country remains too insecure for any meaningful efforts at\n",
    "reconstruction and there is enormous difficulty in bringing relief aid to the rural population. \"\"\""
   ]
  },
  {
   "cell_type": "code",
   "execution_count": 21,
   "id": "599f047b",
   "metadata": {},
   "outputs": [
    {
     "data": {
      "text/plain": [
       "'In its response to 9/11, America has shown itself to be not only a hyperpower but increasingly assertive and ready\\nto use its dominance as a hyperpower. After declaring a War on Terrorism, America has led two conventional\\nwars, in Afghanistan and Iraq, demonstrating its overwhelmingly awesome military might. But these campaigns\\nreveal something more: America’s willingness to have recourse to arms as appropriate and legitimate means to\\nsecure its interests and bolster its security. It has set forth a new doctrine: the right of pre-emptive strike when it\\nconsiders its security, and therefore its national interests, to be at risk. The essence of this doctrine is the real\\nmeaning of hyperpower.\\nPrime Minister Tony Blair has consistently argued that the only option in the face of hyperpower is to offer wise\\ncounsel. But increasingly this is a course that governments and people across the world have refused. The\\nmobilisation for war against Iraq split the United Nations and provoked the largest anti-war demonstrations the\\nworld has ever seen. And through it all, America maintained its determination to wage war alone if necessary and\\nnot to be counselled by the concerns of supposedly allied governments when they faithfully represented the wishes\\nof their electorates. Rather than engaging in debate, the American government expressed its exasperation. The\\ninfluential new breed of neoconservative radio and television hosts went much further. They acted as ringmasters\\nfor outpourings of public scorn that saw French fries renamed ‘freedom fries’ and moves to boycott French and\\nGerman produce across America. If one sound-bite can capture a mood, then perhaps it would be Fox News’ Bill\\nO’Reilly. At the height of the tension over a second Security Council resolution to legitimate war in Iraq, Mr\\nO’Reilly told his viewers that the bottom line was security, the security of his family, and in that matter ‘There’s\\nno moral equivalence between the US and Belgium’. It is, in effect, the ethos of hyperpower articulated and made\\nmanifest in the public domain of 24-hour talk. And America’s willingness to prosecute war has raised innumerable\\nquestions about how it engages with other countries. Afghanistan has seen the removal of the Taliban. But there\\nare no official statistics on the number of innocent civilians dead and injured to achieve that security objective.\\nThe people of Afghanistan have witnessed a descent into the chaos that preceded the arrival of the Taliban, a\\ncountry administered not by a new era of democracy under the tutelage of the hyperpower, but merely by the\\nreturn of the warlords. Beyond Kabul, much of the country remains too insecure for any meaningful efforts at\\nreconstruction and there is enormous difficulty in bringing relief aid to the rural population. '"
      ]
     },
     "execution_count": 21,
     "metadata": {},
     "output_type": "execute_result"
    }
   ],
   "source": [
    "new_text"
   ]
  },
  {
   "cell_type": "code",
   "execution_count": 23,
   "id": "c7965519",
   "metadata": {},
   "outputs": [
    {
     "name": "stdout",
     "output_type": "stream",
     "text": [
      "Original text  :  In its response to 9/11, America has shown itself to be not only a hyperpower but increasingly assertive and ready\n",
      "to use its dominance as a hyperpower. After declaring a War on Terrorism, America has led two conventional\n",
      "wars, in Afghanistan and Iraq, demonstrating its overwhelmingly awesome military might. But these campaigns\n",
      "reveal something more: America’s willingness to have recourse to arms as appropriate and legitimate means to\n",
      "secure its interests and bolster its security. It has set forth a new doctrine: the right of pre-emptive strike when it\n",
      "considers its security, and therefore its national interests, to be at risk. The essence of this doctrine is the real\n",
      "meaning of hyperpower.\n",
      "Prime Minister Tony Blair has consistently argued that the only option in the face of hyperpower is to offer wise\n",
      "counsel. But increasingly this is a course that governments and people across the world have refused. The\n",
      "mobilisation for war against Iraq split the United Nations and provoked the largest anti-war demonstrations the\n",
      "world has ever seen. And through it all, America maintained its determination to wage war alone if necessary and\n",
      "not to be counselled by the concerns of supposedly allied governments when they faithfully represented the wishes\n",
      "of their electorates. Rather than engaging in debate, the American government expressed its exasperation. The\n",
      "influential new breed of neoconservative radio and television hosts went much further. They acted as ringmasters\n",
      "for outpourings of public scorn that saw French fries renamed ‘freedom fries’ and moves to boycott French and\n",
      "German produce across America. If one sound-bite can capture a mood, then perhaps it would be Fox News’ Bill\n",
      "O’Reilly. At the height of the tension over a second Security Council resolution to legitimate war in Iraq, Mr\n",
      "O’Reilly told his viewers that the bottom line was security, the security of his family, and in that matter ‘There’s\n",
      "no moral equivalence between the US and Belgium’. It is, in effect, the ethos of hyperpower articulated and made\n",
      "manifest in the public domain of 24-hour talk. And America’s willingness to prosecute war has raised innumerable\n",
      "questions about how it engages with other countries. Afghanistan has seen the removal of the Taliban. But there\n",
      "are no official statistics on the number of innocent civilians dead and injured to achieve that security objective.\n",
      "The people of Afghanistan have witnessed a descent into the chaos that preceded the arrival of the Taliban, a\n",
      "country administered not by a new era of democracy under the tutelage of the hyperpower, but merely by the\n",
      "return of the warlords. Beyond Kabul, much of the country remains too insecure for any meaningful efforts at\n",
      "reconstruction and there is enormous difficulty in bringing relief aid to the rural population. \n",
      "Text after removing stopwords  :    response 9/11, America shown hyperpower increasingly assertive ready use dominance hyperpower. declaring War Terrorism, America led conventional wars, Afghanistan Iraq, demonstrating overwhelmingly awesome military might. campaigns reveal more: America’s willingness recourse arms appropriate legitimate means secure interests bolster security. set forth new doctrine: right pre-emptive strike considers security, national interests, risk. essence doctrine real meaning hyperpower. Prime Minister Tony Blair consistently argued option face hyperpower offer wise counsel. increasingly course governments people world refused. mobilisation war Iraq split United Nations provoked largest anti-war demonstrations world seen. all, America maintained determination wage war necessary counselled concerns supposedly allied governments faithfully represented wishes electorates. engaging debate, American government expressed exasperation. influential new breed neoconservative radio television hosts went further. acted ringmasters outpourings public scorn saw French fries renamed ‘freedom fries’ moves boycott French German produce America. sound-bite capture mood, Fox News’ Bill O’Reilly. height tension second Security Council resolution legitimate war Iraq, Mr O’Reilly told viewers line security, security family, matter ‘There’s moral equivalence Belgium’. is, effect, ethos hyperpower articulated manifest public domain 24-hour talk. America’s willingness prosecute war raised innumerable questions engages countries. Afghanistan seen removal Taliban. official statistics number innocent civilians dead injured achieve security objective. people Afghanistan witnessed descent chaos preceded arrival Taliban, country administered new era democracy tutelage hyperpower, merely return warlords. Kabul, country remains insecure meaningful efforts reconstruction enormous difficulty bringing relief aid rural population.\n"
     ]
    }
   ],
   "source": [
    "import spacy\n",
    "#loading the english language small model of spacy\n",
    "en = spacy.load('en_core_web_sm')\n",
    "stopwords = en.Defaults.stop_words\n",
    "\n",
    "text = new_text\n",
    "\n",
    "new_lst=[]\n",
    "for token in text.split():\n",
    "    if token.lower() not in stopwords:    #checking whether the word is not \n",
    "        new_lst.append(token)                    #present in the stopword list.\n",
    "        \n",
    "#Join items in the list\n",
    "print(\"Original text  : \",text)\n",
    "print(\"Text after removing stopwords  :   \",' '.join(new_lst))"
   ]
  },
  {
   "cell_type": "code",
   "execution_count": 24,
   "id": "a0bd0c40",
   "metadata": {},
   "outputs": [],
   "source": [
    "new_list_check= ' '.join(new_lst)"
   ]
  },
  {
   "cell_type": "code",
   "execution_count": 25,
   "id": "2caaca69",
   "metadata": {},
   "outputs": [
    {
     "data": {
      "text/plain": [
       "'response 9/11, America shown hyperpower increasingly assertive ready use dominance hyperpower. declaring War Terrorism, America led conventional wars, Afghanistan Iraq, demonstrating overwhelmingly awesome military might. campaigns reveal more: America’s willingness recourse arms appropriate legitimate means secure interests bolster security. set forth new doctrine: right pre-emptive strike considers security, national interests, risk. essence doctrine real meaning hyperpower. Prime Minister Tony Blair consistently argued option face hyperpower offer wise counsel. increasingly course governments people world refused. mobilisation war Iraq split United Nations provoked largest anti-war demonstrations world seen. all, America maintained determination wage war necessary counselled concerns supposedly allied governments faithfully represented wishes electorates. engaging debate, American government expressed exasperation. influential new breed neoconservative radio television hosts went further. acted ringmasters outpourings public scorn saw French fries renamed ‘freedom fries’ moves boycott French German produce America. sound-bite capture mood, Fox News’ Bill O’Reilly. height tension second Security Council resolution legitimate war Iraq, Mr O’Reilly told viewers line security, security family, matter ‘There’s moral equivalence Belgium’. is, effect, ethos hyperpower articulated manifest public domain 24-hour talk. America’s willingness prosecute war raised innumerable questions engages countries. Afghanistan seen removal Taliban. official statistics number innocent civilians dead injured achieve security objective. people Afghanistan witnessed descent chaos preceded arrival Taliban, country administered new era democracy tutelage hyperpower, merely return warlords. Kabul, country remains insecure meaningful efforts reconstruction enormous difficulty bringing relief aid rural population.'"
      ]
     },
     "execution_count": 25,
     "metadata": {},
     "output_type": "execute_result"
    }
   ],
   "source": [
    "new_list_check"
   ]
  },
  {
   "cell_type": "code",
   "execution_count": 26,
   "id": "6dcc69d9",
   "metadata": {},
   "outputs": [
    {
     "data": {
      "text/plain": [
       "1917"
      ]
     },
     "execution_count": 26,
     "metadata": {},
     "output_type": "execute_result"
    }
   ],
   "source": [
    "len(new_list_check)"
   ]
  },
  {
   "cell_type": "code",
   "execution_count": 27,
   "id": "1f0605dd",
   "metadata": {},
   "outputs": [
    {
     "data": {
      "text/plain": [
       "2805"
      ]
     },
     "execution_count": 27,
     "metadata": {},
     "output_type": "execute_result"
    }
   ],
   "source": [
    "len(text)"
   ]
  },
  {
   "cell_type": "markdown",
   "id": "bd9e68a0",
   "metadata": {},
   "source": [
    "## Just correcting the text format"
   ]
  },
  {
   "cell_type": "code",
   "execution_count": null,
   "id": "b5691f28",
   "metadata": {},
   "outputs": [],
   "source": [
    "import spacy\n",
    "#loading the english language small model of spacy\n",
    "en = spacy.load('en_core_web_sm')\n",
    "stopwords = en.Defaults.stop_words\n",
    "\n",
    "text = new_text\n",
    "\n",
    "new_lst=[]\n",
    "for token in text.split():\n",
    "  \n",
    "    new_lst.append(token)                    #present in the stopword list.\n",
    "        \n",
    "#Join items in the list\n",
    "print(\"Original text  : \",text)\n",
    "print(\"Text after removing stopwords  :   \",' '.join(new_lst))"
   ]
  }
 ],
 "metadata": {
  "kernelspec": {
   "display_name": "venv",
   "language": "python",
   "name": "python3"
  },
  "language_info": {
   "codemirror_mode": {
    "name": "ipython",
    "version": 3
   },
   "file_extension": ".py",
   "mimetype": "text/x-python",
   "name": "python",
   "nbconvert_exporter": "python",
   "pygments_lexer": "ipython3",
   "version": "3.10.2 (v3.10.2:a58ebcc701, Jan 13 2022, 14:50:16) [Clang 13.0.0 (clang-1300.0.29.30)]"
  },
  "vscode": {
   "interpreter": {
    "hash": "f2c8c3d1da592aaa5eecfd89bfb35c87388fe504fc422c88b79d05104f6a03b3"
   }
  }
 },
 "nbformat": 4,
 "nbformat_minor": 5
}

{
 "cells": [
  {
   "cell_type": "code",
   "execution_count": 1,
   "id": "94610d64",
   "metadata": {},
   "outputs": [
    {
     "name": "stdout",
     "output_type": "stream",
     "text": [
      "Collecting translators\n",
      "  Downloading translators-5.5.5-py3-none-any.whl (32 kB)\n",
      "Requirement already satisfied: lxml>=4.9.1 in c:\\python39\\lib\\site-packages (from translators) (4.9.1)\n",
      "Collecting cryptography>=38.0.1\n",
      "  Downloading cryptography-39.0.0-cp36-abi3-win_amd64.whl (2.5 MB)\n",
      "     ---------------------------------------- 2.5/2.5 MB 2.4 MB/s eta 0:00:00\n",
      "Collecting PyExecJS>=1.5.1\n",
      "  Downloading PyExecJS-1.5.1.tar.gz (13 kB)\n",
      "  Preparing metadata (setup.py): started\n",
      "  Preparing metadata (setup.py): finished with status 'done'\n",
      "Collecting pathos>=0.2.9\n",
      "  Downloading pathos-0.3.0-py3-none-any.whl (79 kB)\n",
      "     -------------------------------------- 79.8/79.8 kB 892.0 kB/s eta 0:00:00\n",
      "Collecting requests>=2.28.1\n",
      "  Using cached requests-2.28.1-py3-none-any.whl (62 kB)\n",
      "Requirement already satisfied: cffi>=1.12 in c:\\python39\\lib\\site-packages (from cryptography>=38.0.1->translators) (1.15.0)\n",
      "Collecting multiprocess>=0.70.14\n",
      "  Downloading multiprocess-0.70.14-py39-none-any.whl (132 kB)\n",
      "     -------------------------------------- 132.9/132.9 kB 2.6 MB/s eta 0:00:00\n",
      "Collecting ppft>=1.7.6.6\n",
      "  Downloading ppft-1.7.6.6-py3-none-any.whl (52 kB)\n",
      "     ---------------------------------------- 52.8/52.8 kB 2.8 MB/s eta 0:00:00\n",
      "Collecting dill>=0.3.6\n",
      "  Downloading dill-0.3.6-py3-none-any.whl (110 kB)\n",
      "     -------------------------------------- 110.5/110.5 kB 3.2 MB/s eta 0:00:00\n",
      "Collecting pox>=0.3.2\n",
      "  Downloading pox-0.3.2-py3-none-any.whl (29 kB)\n",
      "Requirement already satisfied: six>=1.10.0 in c:\\python39\\lib\\site-packages (from PyExecJS>=1.5.1->translators) (1.15.0)\n",
      "Requirement already satisfied: urllib3<1.27,>=1.21.1 in c:\\python39\\lib\\site-packages (from requests>=2.28.1->translators) (1.26.7)\n",
      "Requirement already satisfied: charset-normalizer<3,>=2 in c:\\python39\\lib\\site-packages (from requests>=2.28.1->translators) (2.0.12)\n",
      "Requirement already satisfied: idna<4,>=2.5 in c:\\python39\\lib\\site-packages (from requests>=2.28.1->translators) (3.3)\n",
      "Requirement already satisfied: certifi>=2017.4.17 in c:\\users\\user\\appdata\\roaming\\python\\python39\\site-packages (from requests>=2.28.1->translators) (2021.5.30)\n",
      "Requirement already satisfied: pycparser in c:\\python39\\lib\\site-packages (from cffi>=1.12->cryptography>=38.0.1->translators) (2.21)\n",
      "Building wheels for collected packages: PyExecJS\n",
      "  Building wheel for PyExecJS (setup.py): started\n",
      "  Building wheel for PyExecJS (setup.py): finished with status 'done'\n",
      "  Created wheel for PyExecJS: filename=PyExecJS-1.5.1-py3-none-any.whl size=14588 sha256=e5eb4bde444eacba8b82cb1544fb3479d7a9e7668a5be1028ffe3d1e8b63f8d0\n",
      "  Stored in directory: c:\\users\\user\\appdata\\local\\pip\\cache\\wheels\\5b\\ac\\94\\92a4835bff6f53c3faa26411e9db1a879d6e662c75b18a9603\n",
      "Successfully built PyExecJS\n",
      "Installing collected packages: requests, PyExecJS, ppft, pox, dill, multiprocess, cryptography, pathos, translators\n",
      "  Attempting uninstall: requests\n",
      "    Found existing installation: requests 2.26.0\n",
      "    Uninstalling requests-2.26.0:\n",
      "      Successfully uninstalled requests-2.26.0\n",
      "Successfully installed PyExecJS-1.5.1 cryptography-39.0.0 dill-0.3.6 multiprocess-0.70.14 pathos-0.3.0 pox-0.3.2 ppft-1.7.6.6 requests-2.28.1 translators-5.5.5\n",
      "Note: you may need to restart the kernel to use updated packages.\n"
     ]
    },
    {
     "name": "stderr",
     "output_type": "stream",
     "text": [
      "\n",
      "[notice] A new release of pip available: 22.2.2 -> 22.3.1\n",
      "[notice] To update, run: c:\\python39\\python.exe -m pip install --upgrade pip\n"
     ]
    }
   ],
   "source": [
    "pip install translators --upgrade"
   ]
  },
  {
   "cell_type": "code",
   "execution_count": 2,
   "id": "ee27b52d",
   "metadata": {},
   "outputs": [
    {
     "name": "stderr",
     "output_type": "stream",
     "text": [
      "Using state Khyber Pakhtunkhwa server backend.\n"
     ]
    },
    {
     "ename": "AttributeError",
     "evalue": "module 'translators' has no attribute 'google'",
     "output_type": "error",
     "traceback": [
      "\u001b[1;31m---------------------------------------------------------------------------\u001b[0m",
      "\u001b[1;31mAttributeError\u001b[0m                            Traceback (most recent call last)",
      "Input \u001b[1;32mIn [2]\u001b[0m, in \u001b[0;36m<cell line: 18>\u001b[1;34m()\u001b[0m\n\u001b[0;32m      5\u001b[0m html_text \u001b[38;5;241m=\u001b[39m \u001b[38;5;124m'''\u001b[39m\n\u001b[0;32m      6\u001b[0m \u001b[38;5;124m<!DOCTYPE html>\u001b[39m\n\u001b[0;32m      7\u001b[0m \u001b[38;5;124m<html>\u001b[39m\n\u001b[1;32m   (...)\u001b[0m\n\u001b[0;32m     14\u001b[0m \u001b[38;5;124m</html>\u001b[39m\n\u001b[0;32m     15\u001b[0m \u001b[38;5;124m'''\u001b[39m\n\u001b[0;32m     17\u001b[0m \u001b[38;5;66;03m# input languages\u001b[39;00m\n\u001b[1;32m---> 18\u001b[0m \u001b[38;5;28mprint\u001b[39m(\u001b[43mts\u001b[49m\u001b[38;5;241;43m.\u001b[39;49m\u001b[43mgoogle\u001b[49m(wyw_text)) \u001b[38;5;66;03m# default: from_language='auto', to_language='en'\u001b[39;00m\n\u001b[0;32m     20\u001b[0m \u001b[38;5;66;03m## output language_map\u001b[39;00m\n\u001b[0;32m     21\u001b[0m \u001b[38;5;28mprint\u001b[39m(ts\u001b[38;5;241m.\u001b[39m_google\u001b[38;5;241m.\u001b[39mlanguage_map)\n",
      "\u001b[1;31mAttributeError\u001b[0m: module 'translators' has no attribute 'google'"
     ]
    }
   ],
   "source": [
    "import translators as ts\n",
    "\n",
    "wyw_text = '季姬寂，集鸡，鸡即棘鸡。棘鸡饥叽，季姬及箕稷济鸡。'\n",
    "chs_text = '季姬感到寂寞，罗集了一些鸡来养，鸡是那种出自荆棘丛中的野鸡。野鸡饿了唧唧叫，季姬就拿竹箕中的谷物喂鸡。'\n",
    "html_text = '''\n",
    "<!DOCTYPE html>\n",
    "<html>\n",
    "<head>\n",
    "\t<title>我是标题</title>\n",
    "</head>\n",
    "<body>\n",
    "<p>我是文章《你的父亲》</p>\n",
    "</body>\n",
    "</html>\n",
    "'''\n",
    "\n",
    "# input languages\n",
    "print(ts.google(wyw_text)) # default: from_language='auto', to_language='en'\n",
    "\n",
    "## output language_map\n",
    "print(ts._google.language_map)"
   ]
  },
  {
   "cell_type": "code",
   "execution_count": 3,
   "id": "f9a41e71",
   "metadata": {},
   "outputs": [
    {
     "ename": "AttributeError",
     "evalue": "module 'translators' has no attribute 'google'",
     "output_type": "error",
     "traceback": [
      "\u001b[1;31m---------------------------------------------------------------------------\u001b[0m",
      "\u001b[1;31mAttributeError\u001b[0m                            Traceback (most recent call last)",
      "Input \u001b[1;32mIn [3]\u001b[0m, in \u001b[0;36m<cell line: 2>\u001b[1;34m()\u001b[0m\n\u001b[0;32m      1\u001b[0m \u001b[38;5;28;01mimport\u001b[39;00m \u001b[38;5;21;01mtranslators\u001b[39;00m \u001b[38;5;28;01mas\u001b[39;00m \u001b[38;5;21;01mts\u001b[39;00m\n\u001b[1;32m----> 2\u001b[0m result \u001b[38;5;241m=\u001b[39m \u001b[43mts\u001b[49m\u001b[38;5;241;43m.\u001b[39;49m\u001b[43mgoogle\u001b[49m(\u001b[38;5;124m'\u001b[39m\u001b[38;5;124mMitä sinä teet\u001b[39m\u001b[38;5;124m'\u001b[39m, to_language\u001b[38;5;241m=\u001b[39m\u001b[38;5;124m'\u001b[39m\u001b[38;5;124men\u001b[39m\u001b[38;5;124m'\u001b[39m)\n\u001b[0;32m      3\u001b[0m \u001b[38;5;28mprint\u001b[39m(result)\n",
      "\u001b[1;31mAttributeError\u001b[0m: module 'translators' has no attribute 'google'"
     ]
    }
   ],
   "source": [
    "import translators as ts\n",
    "result = ts.google('Mitä sinä teet', to_language='en')\n",
    "print(result)"
   ]
  },
  {
   "cell_type": "code",
   "execution_count": 4,
   "id": "fe16aabf",
   "metadata": {},
   "outputs": [
    {
     "ename": "AttributeError",
     "evalue": "module 'translators' has no attribute 'google'",
     "output_type": "error",
     "traceback": [
      "\u001b[1;31m---------------------------------------------------------------------------\u001b[0m",
      "\u001b[1;31mAttributeError\u001b[0m                            Traceback (most recent call last)",
      "Input \u001b[1;32mIn [4]\u001b[0m, in \u001b[0;36m<cell line: 1>\u001b[1;34m()\u001b[0m\n\u001b[1;32m----> 1\u001b[0m help(\u001b[43mts\u001b[49m\u001b[38;5;241;43m.\u001b[39;49m\u001b[43mgoogle\u001b[49m)\n",
      "\u001b[1;31mAttributeError\u001b[0m: module 'translators' has no attribute 'google'"
     ]
    }
   ],
   "source": [
    "help(ts.google)"
   ]
  },
  {
   "cell_type": "code",
   "execution_count": null,
   "id": "55237348",
   "metadata": {},
   "outputs": [],
   "source": []
  }
 ],
 "metadata": {
  "kernelspec": {
   "display_name": "Python 3 (ipykernel)",
   "language": "python",
   "name": "python3"
  },
  "language_info": {
   "codemirror_mode": {
    "name": "ipython",
    "version": 3
   },
   "file_extension": ".py",
   "mimetype": "text/x-python",
   "name": "python",
   "nbconvert_exporter": "python",
   "pygments_lexer": "ipython3",
   "version": "3.9.6"
  }
 },
 "nbformat": 4,
 "nbformat_minor": 5
}

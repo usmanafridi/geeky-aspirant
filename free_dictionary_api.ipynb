{
 "cells": [
  {
   "cell_type": "code",
   "execution_count": 1,
   "id": "62432c2d",
   "metadata": {},
   "outputs": [],
   "source": [
    "import requests\n"
   ]
  },
  {
   "cell_type": "code",
   "execution_count": 20,
   "id": "3e3dd2c4",
   "metadata": {},
   "outputs": [],
   "source": [
    "response = requests.get(\"https://api.dictionaryapi.dev/api/v2/entries/en/misogynist\")"
   ]
  },
  {
   "cell_type": "code",
   "execution_count": 21,
   "id": "52fa702a",
   "metadata": {},
   "outputs": [
    {
     "name": "stdout",
     "output_type": "stream",
     "text": [
      "[{'word': 'misogynist', 'phonetic': '/mɪˈsɒdʒ.ən.ɪst/', 'phonetics': [{'text': '/mɪˈsɒdʒ.ən.ɪst/', 'audio': ''}, {'text': '/mɪˈsɑdʒ.ən.ɪst/', 'audio': 'https://api.dictionaryapi.dev/media/pronunciations/en/misogynist-us.mp3', 'sourceUrl': 'https://commons.wikimedia.org/w/index.php?curid=61399820'}], 'meanings': [{'partOfSpeech': 'noun', 'definitions': [{'definition': 'One who professes misogyny; a hater of women.', 'synonyms': [], 'antonyms': []}, {'definition': 'One who displays prejudice against or looks down upon women.', 'synonyms': [], 'antonyms': []}], 'synonyms': ['misogyne', 'woman hater', 'woman-hater', 'womanhater'], 'antonyms': ['philogynist']}, {'partOfSpeech': 'adjective', 'definitions': [{'definition': 'Misogynistic: relating to or exhibiting misogyny.', 'synonyms': [], 'antonyms': []}], 'synonyms': [], 'antonyms': []}], 'license': {'name': 'CC BY-SA 3.0', 'url': 'https://creativecommons.org/licenses/by-sa/3.0'}, 'sourceUrls': ['https://en.wiktionary.org/wiki/misogynist']}]\n"
     ]
    }
   ],
   "source": [
    "print(response.json())\n"
   ]
  },
  {
   "cell_type": "code",
   "execution_count": 22,
   "id": "84777243",
   "metadata": {},
   "outputs": [
    {
     "name": "stdout",
     "output_type": "stream",
     "text": [
      "[\n",
      "    {\n",
      "        \"license\": {\n",
      "            \"name\": \"CC BY-SA 3.0\",\n",
      "            \"url\": \"https://creativecommons.org/licenses/by-sa/3.0\"\n",
      "        },\n",
      "        \"meanings\": [\n",
      "            {\n",
      "                \"antonyms\": [\n",
      "                    \"philogynist\"\n",
      "                ],\n",
      "                \"definitions\": [\n",
      "                    {\n",
      "                        \"antonyms\": [],\n",
      "                        \"definition\": \"One who professes misogyny; a hater of women.\",\n",
      "                        \"synonyms\": []\n",
      "                    },\n",
      "                    {\n",
      "                        \"antonyms\": [],\n",
      "                        \"definition\": \"One who displays prejudice against or looks down upon women.\",\n",
      "                        \"synonyms\": []\n",
      "                    }\n",
      "                ],\n",
      "                \"partOfSpeech\": \"noun\",\n",
      "                \"synonyms\": [\n",
      "                    \"misogyne\",\n",
      "                    \"woman hater\",\n",
      "                    \"woman-hater\",\n",
      "                    \"womanhater\"\n",
      "                ]\n",
      "            },\n",
      "            {\n",
      "                \"antonyms\": [],\n",
      "                \"definitions\": [\n",
      "                    {\n",
      "                        \"antonyms\": [],\n",
      "                        \"definition\": \"Misogynistic: relating to or exhibiting misogyny.\",\n",
      "                        \"synonyms\": []\n",
      "                    }\n",
      "                ],\n",
      "                \"partOfSpeech\": \"adjective\",\n",
      "                \"synonyms\": []\n",
      "            }\n",
      "        ],\n",
      "        \"phonetic\": \"/m\\u026a\\u02c8s\\u0252d\\u0292.\\u0259n.\\u026ast/\",\n",
      "        \"phonetics\": [\n",
      "            {\n",
      "                \"audio\": \"\",\n",
      "                \"text\": \"/m\\u026a\\u02c8s\\u0252d\\u0292.\\u0259n.\\u026ast/\"\n",
      "            },\n",
      "            {\n",
      "                \"audio\": \"https://api.dictionaryapi.dev/media/pronunciations/en/misogynist-us.mp3\",\n",
      "                \"sourceUrl\": \"https://commons.wikimedia.org/w/index.php?curid=61399820\",\n",
      "                \"text\": \"/m\\u026a\\u02c8s\\u0251d\\u0292.\\u0259n.\\u026ast/\"\n",
      "            }\n",
      "        ],\n",
      "        \"sourceUrls\": [\n",
      "            \"https://en.wiktionary.org/wiki/misogynist\"\n",
      "        ],\n",
      "        \"word\": \"misogynist\"\n",
      "    }\n",
      "]\n"
     ]
    }
   ],
   "source": [
    "import json\n",
    "\n",
    "def jprint(obj):\n",
    "    # create a formatted string of the Python JSON object\n",
    "    text = json.dumps(obj, sort_keys=True, indent=4)\n",
    "    print(text)\n",
    "\n",
    "jprint(response.json())"
   ]
  },
  {
   "cell_type": "code",
   "execution_count": 23,
   "id": "719a491c",
   "metadata": {},
   "outputs": [],
   "source": [
    "response_new=response.json()"
   ]
  },
  {
   "cell_type": "code",
   "execution_count": 24,
   "id": "011ddcf9",
   "metadata": {},
   "outputs": [
    {
     "data": {
      "text/plain": [
       "[{'word': 'misogynist',\n",
       "  'phonetic': '/mɪˈsɒdʒ.ən.ɪst/',\n",
       "  'phonetics': [{'text': '/mɪˈsɒdʒ.ən.ɪst/', 'audio': ''},\n",
       "   {'text': '/mɪˈsɑdʒ.ən.ɪst/',\n",
       "    'audio': 'https://api.dictionaryapi.dev/media/pronunciations/en/misogynist-us.mp3',\n",
       "    'sourceUrl': 'https://commons.wikimedia.org/w/index.php?curid=61399820'}],\n",
       "  'meanings': [{'partOfSpeech': 'noun',\n",
       "    'definitions': [{'definition': 'One who professes misogyny; a hater of women.',\n",
       "      'synonyms': [],\n",
       "      'antonyms': []},\n",
       "     {'definition': 'One who displays prejudice against or looks down upon women.',\n",
       "      'synonyms': [],\n",
       "      'antonyms': []}],\n",
       "    'synonyms': ['misogyne', 'woman hater', 'woman-hater', 'womanhater'],\n",
       "    'antonyms': ['philogynist']},\n",
       "   {'partOfSpeech': 'adjective',\n",
       "    'definitions': [{'definition': 'Misogynistic: relating to or exhibiting misogyny.',\n",
       "      'synonyms': [],\n",
       "      'antonyms': []}],\n",
       "    'synonyms': [],\n",
       "    'antonyms': []}],\n",
       "  'license': {'name': 'CC BY-SA 3.0',\n",
       "   'url': 'https://creativecommons.org/licenses/by-sa/3.0'},\n",
       "  'sourceUrls': ['https://en.wiktionary.org/wiki/misogynist']}]"
      ]
     },
     "execution_count": 24,
     "metadata": {},
     "output_type": "execute_result"
    }
   ],
   "source": [
    "response_new"
   ]
  },
  {
   "cell_type": "code",
   "execution_count": 28,
   "id": "f64b0c24",
   "metadata": {},
   "outputs": [
    {
     "data": {
      "text/plain": [
       "{'word': 'misogynist',\n",
       " 'phonetic': '/mɪˈsɒdʒ.ən.ɪst/',\n",
       " 'phonetics': [{'text': '/mɪˈsɒdʒ.ən.ɪst/', 'audio': ''},\n",
       "  {'text': '/mɪˈsɑdʒ.ən.ɪst/',\n",
       "   'audio': 'https://api.dictionaryapi.dev/media/pronunciations/en/misogynist-us.mp3',\n",
       "   'sourceUrl': 'https://commons.wikimedia.org/w/index.php?curid=61399820'}],\n",
       " 'meanings': [{'partOfSpeech': 'noun',\n",
       "   'definitions': [{'definition': 'One who professes misogyny; a hater of women.',\n",
       "     'synonyms': [],\n",
       "     'antonyms': []},\n",
       "    {'definition': 'One who displays prejudice against or looks down upon women.',\n",
       "     'synonyms': [],\n",
       "     'antonyms': []}],\n",
       "   'synonyms': ['misogyne', 'woman hater', 'woman-hater', 'womanhater'],\n",
       "   'antonyms': ['philogynist']},\n",
       "  {'partOfSpeech': 'adjective',\n",
       "   'definitions': [{'definition': 'Misogynistic: relating to or exhibiting misogyny.',\n",
       "     'synonyms': [],\n",
       "     'antonyms': []}],\n",
       "   'synonyms': [],\n",
       "   'antonyms': []}],\n",
       " 'license': {'name': 'CC BY-SA 3.0',\n",
       "  'url': 'https://creativecommons.org/licenses/by-sa/3.0'},\n",
       " 'sourceUrls': ['https://en.wiktionary.org/wiki/misogynist']}"
      ]
     },
     "execution_count": 28,
     "metadata": {},
     "output_type": "execute_result"
    }
   ],
   "source": [
    "response_new[0]"
   ]
  },
  {
   "cell_type": "code",
   "execution_count": 27,
   "id": "9be762c0",
   "metadata": {},
   "outputs": [
    {
     "data": {
      "text/plain": [
       "{'partOfSpeech': 'adjective',\n",
       " 'definitions': [{'definition': 'Misogynistic: relating to or exhibiting misogyny.',\n",
       "   'synonyms': [],\n",
       "   'antonyms': []}],\n",
       " 'synonyms': [],\n",
       " 'antonyms': []}"
      ]
     },
     "execution_count": 27,
     "metadata": {},
     "output_type": "execute_result"
    }
   ],
   "source": [
    "response_new[0]['meanings'][1]"
   ]
  },
  {
   "cell_type": "code",
   "execution_count": 12,
   "id": "cfdd00a5",
   "metadata": {},
   "outputs": [],
   "source": [
    "# response_new[0][\"\"]"
   ]
  },
  {
   "cell_type": "code",
   "execution_count": 13,
   "id": "f2804061",
   "metadata": {},
   "outputs": [
    {
     "data": {
      "text/plain": [
       "'noun'"
      ]
     },
     "execution_count": 13,
     "metadata": {},
     "output_type": "execute_result"
    }
   ],
   "source": [
    "part_of_speech= response_new[0]['meanings'][0]['partOfSpeech']\n",
    "part_of_speech"
   ]
  },
  {
   "cell_type": "code",
   "execution_count": 14,
   "id": "a017bb39",
   "metadata": {},
   "outputs": [
    {
     "data": {
      "text/plain": [
       "'(chiefly in the plural) Any of a group of unequal or dissimilar things.'"
      ]
     },
     "execution_count": 14,
     "metadata": {},
     "output_type": "execute_result"
    }
   ],
   "source": [
    "definition1= response_new[0]['meanings'][0]['definitions'][0]['definition']\n",
    "definition1\n"
   ]
  },
  {
   "cell_type": "code",
   "execution_count": 17,
   "id": "9baa79e9",
   "metadata": {},
   "outputs": [
    {
     "ename": "KeyError",
     "evalue": "'example'",
     "output_type": "error",
     "traceback": [
      "\u001b[0;31m---------------------------------------------------------------------------\u001b[0m",
      "\u001b[0;31mKeyError\u001b[0m                                  Traceback (most recent call last)",
      "Cell \u001b[0;32mIn[17], line 1\u001b[0m\n\u001b[0;32m----> 1\u001b[0m example1\u001b[39m=\u001b[39m response_new[\u001b[39m0\u001b[39;49m][\u001b[39m'\u001b[39;49m\u001b[39mmeanings\u001b[39;49m\u001b[39m'\u001b[39;49m][\u001b[39m0\u001b[39;49m][\u001b[39m'\u001b[39;49m\u001b[39mdefinitions\u001b[39;49m\u001b[39m'\u001b[39;49m][\u001b[39m0\u001b[39;49m][\u001b[39m'\u001b[39;49m\u001b[39mexample\u001b[39;49m\u001b[39m'\u001b[39;49m]\n",
      "\u001b[0;31mKeyError\u001b[0m: 'example'"
     ]
    }
   ],
   "source": [
    "example1= response_new[0]['meanings'][0]['definitions'][0]['example']"
   ]
  },
  {
   "cell_type": "code",
   "execution_count": 168,
   "id": "02040749",
   "metadata": {},
   "outputs": [
    {
     "ename": "IndexError",
     "evalue": "list index out of range",
     "output_type": "error",
     "traceback": [
      "\u001b[0;31m---------------------------------------------------------------------------\u001b[0m",
      "\u001b[0;31mIndexError\u001b[0m                                Traceback (most recent call last)",
      "\u001b[0;32m/var/folders/h6/2sm42l455mg6zrwjgrtyk4g80000gn/T/ipykernel_3883/714151644.py\u001b[0m in \u001b[0;36m<module>\u001b[0;34m\u001b[0m\n\u001b[1;32m      1\u001b[0m \u001b[0;31m## Thsi one needs some attention\u001b[0m\u001b[0;34m\u001b[0m\u001b[0;34m\u001b[0m\u001b[0m\n\u001b[0;32m----> 2\u001b[0;31m \u001b[0mdefinition2\u001b[0m\u001b[0;34m=\u001b[0m\u001b[0mresponse_new\u001b[0m\u001b[0;34m[\u001b[0m\u001b[0;36m0\u001b[0m\u001b[0;34m]\u001b[0m\u001b[0;34m[\u001b[0m\u001b[0;34m'meanings'\u001b[0m\u001b[0;34m]\u001b[0m\u001b[0;34m[\u001b[0m\u001b[0;36m0\u001b[0m\u001b[0;34m]\u001b[0m\u001b[0;34m[\u001b[0m\u001b[0;34m'definitions'\u001b[0m\u001b[0;34m]\u001b[0m\u001b[0;34m[\u001b[0m\u001b[0;36m1\u001b[0m\u001b[0;34m]\u001b[0m\u001b[0;34m[\u001b[0m\u001b[0;34m'definition'\u001b[0m\u001b[0;34m]\u001b[0m\u001b[0;34m\u001b[0m\u001b[0;34m\u001b[0m\u001b[0m\n\u001b[0m\u001b[1;32m      3\u001b[0m \u001b[0mdefinition2\u001b[0m\u001b[0;34m\u001b[0m\u001b[0;34m\u001b[0m\u001b[0m\n",
      "\u001b[0;31mIndexError\u001b[0m: list index out of range"
     ]
    }
   ],
   "source": [
    "## Thsi one needs some attention. Becuase for some words, it will be out of index as the second element in the list will not be there.\n",
    "# definition2=response_new[0]['meanings'][0]['definitions'][1]['definition']\n",
    "# definition2\n"
   ]
  },
  {
   "cell_type": "code",
   "execution_count": 15,
   "id": "feae960b",
   "metadata": {},
   "outputs": [
    {
     "data": {
      "text/plain": [
       "[]"
      ]
     },
     "execution_count": 15,
     "metadata": {},
     "output_type": "execute_result"
    }
   ],
   "source": [
    "synonyms= response_new[0]['meanings'][0]['synonyms']\n",
    "synonyms"
   ]
  },
  {
   "cell_type": "code",
   "execution_count": 16,
   "id": "83188230",
   "metadata": {},
   "outputs": [
    {
     "data": {
      "text/plain": [
       "[]"
      ]
     },
     "execution_count": 16,
     "metadata": {},
     "output_type": "execute_result"
    }
   ],
   "source": [
    "antonyms= response_new[0]['meanings'][0]['antonyms']\n",
    "antonyms"
   ]
  },
  {
   "cell_type": "markdown",
   "id": "cb9200cd",
   "metadata": {},
   "source": [
    "Remember that you will not need the Synonym and Antonym all the time, so there will be a trade off between using the free API. But you can include a situation in which you can call the OPENAI if there is not word. But try to use the mininal model.\n"
   ]
  },
  {
   "cell_type": "code",
   "execution_count": null,
   "id": "16827f79",
   "metadata": {},
   "outputs": [],
   "source": []
  }
 ],
 "metadata": {
  "kernelspec": {
   "display_name": "venv",
   "language": "python",
   "name": "python3"
  },
  "language_info": {
   "codemirror_mode": {
    "name": "ipython",
    "version": 3
   },
   "file_extension": ".py",
   "mimetype": "text/x-python",
   "name": "python",
   "nbconvert_exporter": "python",
   "pygments_lexer": "ipython3",
   "version": "3.10.2"
  },
  "vscode": {
   "interpreter": {
    "hash": "f2c8c3d1da592aaa5eecfd89bfb35c87388fe504fc422c88b79d05104f6a03b3"
   }
  }
 },
 "nbformat": 4,
 "nbformat_minor": 5
}

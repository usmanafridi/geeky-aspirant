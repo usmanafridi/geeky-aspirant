{
 "cells": [
  {
   "cell_type": "code",
   "execution_count": 1,
   "id": "62432c2d",
   "metadata": {},
   "outputs": [],
   "source": [
    "import requests\n"
   ]
  },
  {
   "cell_type": "code",
   "execution_count": 139,
   "id": "3e3dd2c4",
   "metadata": {},
   "outputs": [],
   "source": [
    "response = requests.get(\"https://api.dictionaryapi.dev/api/v2/entries/en/erratic\")"
   ]
  },
  {
   "cell_type": "code",
   "execution_count": 140,
   "id": "52fa702a",
   "metadata": {},
   "outputs": [
    {
     "name": "stdout",
     "output_type": "stream",
     "text": [
      "[{'word': 'erratic', 'phonetic': '/ɪˈɹætɪk/', 'phonetics': [{'text': '/ɪˈɹætɪk/', 'audio': 'https://api.dictionaryapi.dev/media/pronunciations/en/erratic-au.mp3', 'sourceUrl': 'https://commons.wikimedia.org/w/index.php?curid=75730525', 'license': {'name': 'BY-SA 4.0', 'url': 'https://creativecommons.org/licenses/by-sa/4.0'}}], 'meanings': [{'partOfSpeech': 'noun', 'definitions': [{'definition': 'A rock moved from one location to another, usually by a glacier.', 'synonyms': [], 'antonyms': []}, {'definition': 'Anything that has erratic characteristics.', 'synonyms': [], 'antonyms': []}], 'synonyms': ['dropstone'], 'antonyms': []}, {'partOfSpeech': 'adjective', 'definitions': [{'definition': 'Unsteady, random; prone to unexpected changes; not consistent', 'synonyms': [], 'antonyms': [], 'example': 'Henry has been getting erratic scores on his tests: 40% last week, but 98% this week.'}, {'definition': 'Deviating from normal opinions or actions; eccentric; odd.', 'synonyms': [], 'antonyms': [], 'example': 'erratic conduct'}], 'synonyms': [], 'antonyms': ['consistent']}], 'license': {'name': 'CC BY-SA 3.0', 'url': 'https://creativecommons.org/licenses/by-sa/3.0'}, 'sourceUrls': ['https://en.wiktionary.org/wiki/erratic']}]\n"
     ]
    }
   ],
   "source": [
    "print(response.json())\n"
   ]
  },
  {
   "cell_type": "code",
   "execution_count": 141,
   "id": "84777243",
   "metadata": {},
   "outputs": [
    {
     "name": "stdout",
     "output_type": "stream",
     "text": [
      "[\n",
      "    {\n",
      "        \"license\": {\n",
      "            \"name\": \"CC BY-SA 3.0\",\n",
      "            \"url\": \"https://creativecommons.org/licenses/by-sa/3.0\"\n",
      "        },\n",
      "        \"meanings\": [\n",
      "            {\n",
      "                \"antonyms\": [],\n",
      "                \"definitions\": [\n",
      "                    {\n",
      "                        \"antonyms\": [],\n",
      "                        \"definition\": \"A rock moved from one location to another, usually by a glacier.\",\n",
      "                        \"synonyms\": []\n",
      "                    },\n",
      "                    {\n",
      "                        \"antonyms\": [],\n",
      "                        \"definition\": \"Anything that has erratic characteristics.\",\n",
      "                        \"synonyms\": []\n",
      "                    }\n",
      "                ],\n",
      "                \"partOfSpeech\": \"noun\",\n",
      "                \"synonyms\": [\n",
      "                    \"dropstone\"\n",
      "                ]\n",
      "            },\n",
      "            {\n",
      "                \"antonyms\": [\n",
      "                    \"consistent\"\n",
      "                ],\n",
      "                \"definitions\": [\n",
      "                    {\n",
      "                        \"antonyms\": [],\n",
      "                        \"definition\": \"Unsteady, random; prone to unexpected changes; not consistent\",\n",
      "                        \"example\": \"Henry has been getting erratic scores on his tests: 40% last week, but 98% this week.\",\n",
      "                        \"synonyms\": []\n",
      "                    },\n",
      "                    {\n",
      "                        \"antonyms\": [],\n",
      "                        \"definition\": \"Deviating from normal opinions or actions; eccentric; odd.\",\n",
      "                        \"example\": \"erratic conduct\",\n",
      "                        \"synonyms\": []\n",
      "                    }\n",
      "                ],\n",
      "                \"partOfSpeech\": \"adjective\",\n",
      "                \"synonyms\": []\n",
      "            }\n",
      "        ],\n",
      "        \"phonetic\": \"/\\u026a\\u02c8\\u0279\\u00e6t\\u026ak/\",\n",
      "        \"phonetics\": [\n",
      "            {\n",
      "                \"audio\": \"https://api.dictionaryapi.dev/media/pronunciations/en/erratic-au.mp3\",\n",
      "                \"license\": {\n",
      "                    \"name\": \"BY-SA 4.0\",\n",
      "                    \"url\": \"https://creativecommons.org/licenses/by-sa/4.0\"\n",
      "                },\n",
      "                \"sourceUrl\": \"https://commons.wikimedia.org/w/index.php?curid=75730525\",\n",
      "                \"text\": \"/\\u026a\\u02c8\\u0279\\u00e6t\\u026ak/\"\n",
      "            }\n",
      "        ],\n",
      "        \"sourceUrls\": [\n",
      "            \"https://en.wiktionary.org/wiki/erratic\"\n",
      "        ],\n",
      "        \"word\": \"erratic\"\n",
      "    }\n",
      "]\n"
     ]
    }
   ],
   "source": [
    "import json\n",
    "\n",
    "def jprint(obj):\n",
    "    # create a formatted string of the Python JSON object\n",
    "    text = json.dumps(obj, sort_keys=True, indent=4)\n",
    "    print(text)\n",
    "\n",
    "jprint(response.json())"
   ]
  },
  {
   "cell_type": "code",
   "execution_count": 142,
   "id": "719a491c",
   "metadata": {},
   "outputs": [],
   "source": [
    "response_new=response.json()"
   ]
  },
  {
   "cell_type": "code",
   "execution_count": 143,
   "id": "011ddcf9",
   "metadata": {},
   "outputs": [
    {
     "data": {
      "text/plain": [
       "[{'word': 'erratic',\n",
       "  'phonetic': '/ɪˈɹætɪk/',\n",
       "  'phonetics': [{'text': '/ɪˈɹætɪk/',\n",
       "    'audio': 'https://api.dictionaryapi.dev/media/pronunciations/en/erratic-au.mp3',\n",
       "    'sourceUrl': 'https://commons.wikimedia.org/w/index.php?curid=75730525',\n",
       "    'license': {'name': 'BY-SA 4.0',\n",
       "     'url': 'https://creativecommons.org/licenses/by-sa/4.0'}}],\n",
       "  'meanings': [{'partOfSpeech': 'noun',\n",
       "    'definitions': [{'definition': 'A rock moved from one location to another, usually by a glacier.',\n",
       "      'synonyms': [],\n",
       "      'antonyms': []},\n",
       "     {'definition': 'Anything that has erratic characteristics.',\n",
       "      'synonyms': [],\n",
       "      'antonyms': []}],\n",
       "    'synonyms': ['dropstone'],\n",
       "    'antonyms': []},\n",
       "   {'partOfSpeech': 'adjective',\n",
       "    'definitions': [{'definition': 'Unsteady, random; prone to unexpected changes; not consistent',\n",
       "      'synonyms': [],\n",
       "      'antonyms': [],\n",
       "      'example': 'Henry has been getting erratic scores on his tests: 40% last week, but 98% this week.'},\n",
       "     {'definition': 'Deviating from normal opinions or actions; eccentric; odd.',\n",
       "      'synonyms': [],\n",
       "      'antonyms': [],\n",
       "      'example': 'erratic conduct'}],\n",
       "    'synonyms': [],\n",
       "    'antonyms': ['consistent']}],\n",
       "  'license': {'name': 'CC BY-SA 3.0',\n",
       "   'url': 'https://creativecommons.org/licenses/by-sa/3.0'},\n",
       "  'sourceUrls': ['https://en.wiktionary.org/wiki/erratic']}]"
      ]
     },
     "execution_count": 143,
     "metadata": {},
     "output_type": "execute_result"
    }
   ],
   "source": [
    "response_new"
   ]
  },
  {
   "cell_type": "code",
   "execution_count": 144,
   "id": "f64b0c24",
   "metadata": {},
   "outputs": [
    {
     "data": {
      "text/plain": [
       "[{'word': 'erratic',\n",
       "  'phonetic': '/ɪˈɹætɪk/',\n",
       "  'phonetics': [{'text': '/ɪˈɹætɪk/',\n",
       "    'audio': 'https://api.dictionaryapi.dev/media/pronunciations/en/erratic-au.mp3',\n",
       "    'sourceUrl': 'https://commons.wikimedia.org/w/index.php?curid=75730525',\n",
       "    'license': {'name': 'BY-SA 4.0',\n",
       "     'url': 'https://creativecommons.org/licenses/by-sa/4.0'}}],\n",
       "  'meanings': [{'partOfSpeech': 'noun',\n",
       "    'definitions': [{'definition': 'A rock moved from one location to another, usually by a glacier.',\n",
       "      'synonyms': [],\n",
       "      'antonyms': []},\n",
       "     {'definition': 'Anything that has erratic characteristics.',\n",
       "      'synonyms': [],\n",
       "      'antonyms': []}],\n",
       "    'synonyms': ['dropstone'],\n",
       "    'antonyms': []},\n",
       "   {'partOfSpeech': 'adjective',\n",
       "    'definitions': [{'definition': 'Unsteady, random; prone to unexpected changes; not consistent',\n",
       "      'synonyms': [],\n",
       "      'antonyms': [],\n",
       "      'example': 'Henry has been getting erratic scores on his tests: 40% last week, but 98% this week.'},\n",
       "     {'definition': 'Deviating from normal opinions or actions; eccentric; odd.',\n",
       "      'synonyms': [],\n",
       "      'antonyms': [],\n",
       "      'example': 'erratic conduct'}],\n",
       "    'synonyms': [],\n",
       "    'antonyms': ['consistent']}],\n",
       "  'license': {'name': 'CC BY-SA 3.0',\n",
       "   'url': 'https://creativecommons.org/licenses/by-sa/3.0'},\n",
       "  'sourceUrls': ['https://en.wiktionary.org/wiki/erratic']}]"
      ]
     },
     "execution_count": 144,
     "metadata": {},
     "output_type": "execute_result"
    }
   ],
   "source": [
    "response_new"
   ]
  },
  {
   "cell_type": "code",
   "execution_count": 145,
   "id": "9be762c0",
   "metadata": {},
   "outputs": [
    {
     "data": {
      "text/plain": [
       "'Henry has been getting erratic scores on his tests: 40% last week, but 98% this week.'"
      ]
     },
     "execution_count": 145,
     "metadata": {},
     "output_type": "execute_result"
    }
   ],
   "source": [
    "sentence1= response_new[0]['meanings'][1][\"definitions\"][0][\"example\"]\n",
    "sentence1"
   ]
  },
  {
   "cell_type": "code",
   "execution_count": 146,
   "id": "cfdd00a5",
   "metadata": {},
   "outputs": [],
   "source": [
    "# response_new[0][\"\"]"
   ]
  },
  {
   "cell_type": "code",
   "execution_count": 147,
   "id": "f2804061",
   "metadata": {},
   "outputs": [
    {
     "data": {
      "text/plain": [
       "'noun'"
      ]
     },
     "execution_count": 147,
     "metadata": {},
     "output_type": "execute_result"
    }
   ],
   "source": [
    "part_of_speech= response_new[0]['meanings'][0]['partOfSpeech']\n",
    "part_of_speech"
   ]
  },
  {
   "cell_type": "code",
   "execution_count": 148,
   "id": "a017bb39",
   "metadata": {},
   "outputs": [
    {
     "data": {
      "text/plain": [
       "'A rock moved from one location to another, usually by a glacier.'"
      ]
     },
     "execution_count": 148,
     "metadata": {},
     "output_type": "execute_result"
    }
   ],
   "source": [
    "definition1= response_new[0]['meanings'][0]['definitions'][0]['definition']\n",
    "definition1\n"
   ]
  },
  {
   "cell_type": "code",
   "execution_count": 149,
   "id": "9baa79e9",
   "metadata": {},
   "outputs": [
    {
     "data": {
      "text/plain": [
       "'Henry has been getting erratic scores on his tests: 40% last week, but 98% this week.'"
      ]
     },
     "execution_count": 149,
     "metadata": {},
     "output_type": "execute_result"
    }
   ],
   "source": [
    "example1= response_new[0]['meanings'][1]['definitions'][0]['example']\n",
    "example1"
   ]
  },
  {
   "cell_type": "code",
   "execution_count": 150,
   "id": "02040749",
   "metadata": {},
   "outputs": [
    {
     "data": {
      "text/plain": [
       "'Anything that has erratic characteristics.'"
      ]
     },
     "execution_count": 150,
     "metadata": {},
     "output_type": "execute_result"
    }
   ],
   "source": [
    "## Thsi one needs some attention. Becuase for some words, it will be out of index as the second element in the list will not be there.\n",
    "definition2=response_new[0]['meanings'][0]['definitions'][1]['definition']\n",
    "definition2\n"
   ]
  },
  {
   "cell_type": "code",
   "execution_count": 104,
   "id": "feae960b",
   "metadata": {},
   "outputs": [
    {
     "data": {
      "text/plain": [
       "['incongruous',\n",
       " 'mismatched',\n",
       " 'uncoordinated',\n",
       " 'incommensurable',\n",
       " 'different',\n",
       " 'dissimilar',\n",
       " 'unalike']"
      ]
     },
     "execution_count": 104,
     "metadata": {},
     "output_type": "execute_result"
    }
   ],
   "source": [
    "synonyms= response_new[0]['meanings'][1]['synonyms']\n",
    "synonyms"
   ]
  },
  {
   "cell_type": "code",
   "execution_count": 105,
   "id": "83188230",
   "metadata": {},
   "outputs": [
    {
     "data": {
      "text/plain": [
       "[]"
      ]
     },
     "execution_count": 105,
     "metadata": {},
     "output_type": "execute_result"
    }
   ],
   "source": [
    "antonyms= response_new[0]['meanings'][1]['antonyms']\n",
    "antonyms"
   ]
  },
  {
   "cell_type": "markdown",
   "id": "cb9200cd",
   "metadata": {},
   "source": [
    "Remember that you will not need the Synonym and Antonym all the time, so there will be a trade off between using the free API. But you can include a situation in which you can call the OPENAI if there is not word. But try to use the mininal model.\n"
   ]
  },
  {
   "cell_type": "code",
   "execution_count": 152,
   "id": "16827f79",
   "metadata": {},
   "outputs": [],
   "source": [
    "## need to further refine this function.\n",
    "\n",
    "def word_mean_sen(word):\n",
    "    response = requests.get(f\"https://api.dictionaryapi.dev/api/v2/entries/en/{word}\")\n",
    "    response_new=response.json()\n",
    "    try:\n",
    "        \n",
    "        part_of_speech1= response_new[0]['meanings'][0]['partOfSpeech']\n",
    "\n",
    "        meaning1= response_new[0]['meanings'][0]['definitions'][0]['definition']\n",
    "        \n",
    "            \n",
    "        \n",
    "        # Checking for second meaning\n",
    "        try:\n",
    "            meaning2=response_new[0]['meanings'][0]['definitions'][1]['definition']\n",
    "            part_of_speech2= response_new[0]['meanings'][1]['partOfSpeech']\n",
    "            \n",
    "            sentence1= response_new[0]['meanings'][0][\"definitions\"][0][\"example\"]\n",
    "            sentence2= response_new[0]['meanings'][1][\"definitions\"][0][\"example\"]\n",
    "        \n",
    "        except:\n",
    "            meaning1=meaning1\n",
    "            meaning2=None\n",
    "            part_of_speech2= None\n",
    "            sentence1=None\n",
    "            sentence2=None\n",
    "            \n",
    "            \n",
    "    \n",
    "    \n",
    "    except:\n",
    "        print(\"Nothing found\")\n",
    "    \n",
    "    return meaning1,meaning2, part_of_speech1,part_of_speech2, sentence1, sentence2\n",
    "    "
   ]
  },
  {
   "cell_type": "code",
   "execution_count": null,
   "id": "6175bc23",
   "metadata": {},
   "outputs": [],
   "source": []
  }
 ],
 "metadata": {
  "kernelspec": {
   "display_name": "venv",
   "language": "python",
   "name": "python3"
  },
  "language_info": {
   "codemirror_mode": {
    "name": "ipython",
    "version": 3
   },
   "file_extension": ".py",
   "mimetype": "text/x-python",
   "name": "python",
   "nbconvert_exporter": "python",
   "pygments_lexer": "ipython3",
   "version": "3.10.2"
  },
  "vscode": {
   "interpreter": {
    "hash": "f2c8c3d1da592aaa5eecfd89bfb35c87388fe504fc422c88b79d05104f6a03b3"
   }
  }
 },
 "nbformat": 4,
 "nbformat_minor": 5
}

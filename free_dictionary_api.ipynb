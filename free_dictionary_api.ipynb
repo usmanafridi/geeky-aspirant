{
 "cells": [
  {
   "cell_type": "code",
   "execution_count": 1,
   "id": "62432c2d",
   "metadata": {},
   "outputs": [],
   "source": [
    "import requests"
   ]
  },
  {
   "cell_type": "code",
   "execution_count": 158,
   "id": "3e3dd2c4",
   "metadata": {},
   "outputs": [],
   "source": [
    "response = requests.get(\"https://api.dictionaryapi.dev/api/v2/entries/en/Disparate\")"
   ]
  },
  {
   "cell_type": "code",
   "execution_count": 159,
   "id": "52fa702a",
   "metadata": {},
   "outputs": [
    {
     "name": "stdout",
     "output_type": "stream",
     "text": [
      "[{'word': 'disparate', 'phonetic': '/ˈdɪsp(ə)ɹət/', 'phonetics': [{'text': '/ˈdɪsp(ə)ɹət/', 'audio': ''}, {'text': '/dɪˈspæɹət/', 'audio': 'https://api.dictionaryapi.dev/media/pronunciations/en/disparate-us.mp3', 'sourceUrl': 'https://commons.wikimedia.org/w/index.php?curid=1545497', 'license': {'name': 'BY-SA 3.0', 'url': 'https://creativecommons.org/licenses/by-sa/3.0'}}], 'meanings': [{'partOfSpeech': 'noun', 'definitions': [{'definition': '(chiefly in the plural) Any of a group of unequal or dissimilar things.', 'synonyms': [], 'antonyms': []}], 'synonyms': [], 'antonyms': []}, {'partOfSpeech': 'adjective', 'definitions': [{'definition': 'Composed of inherently different or distinct elements; incongruous.', 'synonyms': [], 'antonyms': [], 'example': 'The board of the company was decidedly disparate, with no two members from the same social or economic background.'}, {'definition': 'Essentially different; of different species, unlike but not opposed in pairs; also, less properly, utterly unlike; incapable of being compared; having no common genus.', 'synonyms': [], 'antonyms': []}], 'synonyms': ['incongruous', 'mismatched', 'uncoordinated', 'incommensurable', 'different', 'dissimilar', 'unalike'], 'antonyms': []}], 'license': {'name': 'CC BY-SA 3.0', 'url': 'https://creativecommons.org/licenses/by-sa/3.0'}, 'sourceUrls': ['https://en.wiktionary.org/wiki/disparate']}]\n"
     ]
    }
   ],
   "source": [
    "print(response.json())\n"
   ]
  },
  {
   "cell_type": "code",
   "execution_count": 160,
   "id": "84777243",
   "metadata": {},
   "outputs": [
    {
     "name": "stdout",
     "output_type": "stream",
     "text": [
      "[\n",
      "    {\n",
      "        \"license\": {\n",
      "            \"name\": \"CC BY-SA 3.0\",\n",
      "            \"url\": \"https://creativecommons.org/licenses/by-sa/3.0\"\n",
      "        },\n",
      "        \"meanings\": [\n",
      "            {\n",
      "                \"antonyms\": [],\n",
      "                \"definitions\": [\n",
      "                    {\n",
      "                        \"antonyms\": [],\n",
      "                        \"definition\": \"(chiefly in the plural) Any of a group of unequal or dissimilar things.\",\n",
      "                        \"synonyms\": []\n",
      "                    }\n",
      "                ],\n",
      "                \"partOfSpeech\": \"noun\",\n",
      "                \"synonyms\": []\n",
      "            },\n",
      "            {\n",
      "                \"antonyms\": [],\n",
      "                \"definitions\": [\n",
      "                    {\n",
      "                        \"antonyms\": [],\n",
      "                        \"definition\": \"Composed of inherently different or distinct elements; incongruous.\",\n",
      "                        \"example\": \"The board of the company was decidedly disparate, with no two members from the same social or economic background.\",\n",
      "                        \"synonyms\": []\n",
      "                    },\n",
      "                    {\n",
      "                        \"antonyms\": [],\n",
      "                        \"definition\": \"Essentially different; of different species, unlike but not opposed in pairs; also, less properly, utterly unlike; incapable of being compared; having no common genus.\",\n",
      "                        \"synonyms\": []\n",
      "                    }\n",
      "                ],\n",
      "                \"partOfSpeech\": \"adjective\",\n",
      "                \"synonyms\": [\n",
      "                    \"incongruous\",\n",
      "                    \"mismatched\",\n",
      "                    \"uncoordinated\",\n",
      "                    \"incommensurable\",\n",
      "                    \"different\",\n",
      "                    \"dissimilar\",\n",
      "                    \"unalike\"\n",
      "                ]\n",
      "            }\n",
      "        ],\n",
      "        \"phonetic\": \"/\\u02c8d\\u026asp(\\u0259)\\u0279\\u0259t/\",\n",
      "        \"phonetics\": [\n",
      "            {\n",
      "                \"audio\": \"\",\n",
      "                \"text\": \"/\\u02c8d\\u026asp(\\u0259)\\u0279\\u0259t/\"\n",
      "            },\n",
      "            {\n",
      "                \"audio\": \"https://api.dictionaryapi.dev/media/pronunciations/en/disparate-us.mp3\",\n",
      "                \"license\": {\n",
      "                    \"name\": \"BY-SA 3.0\",\n",
      "                    \"url\": \"https://creativecommons.org/licenses/by-sa/3.0\"\n",
      "                },\n",
      "                \"sourceUrl\": \"https://commons.wikimedia.org/w/index.php?curid=1545497\",\n",
      "                \"text\": \"/d\\u026a\\u02c8sp\\u00e6\\u0279\\u0259t/\"\n",
      "            }\n",
      "        ],\n",
      "        \"sourceUrls\": [\n",
      "            \"https://en.wiktionary.org/wiki/disparate\"\n",
      "        ],\n",
      "        \"word\": \"disparate\"\n",
      "    }\n",
      "]\n"
     ]
    }
   ],
   "source": [
    "import json\n",
    "\n",
    "def jprint(obj):\n",
    "    # create a formatted string of the Python JSON object\n",
    "    text = json.dumps(obj, sort_keys=True, indent=4)\n",
    "    print(text)\n",
    "\n",
    "jprint(response.json())"
   ]
  },
  {
   "cell_type": "code",
   "execution_count": 161,
   "id": "719a491c",
   "metadata": {},
   "outputs": [],
   "source": [
    "response_new=response.json()"
   ]
  },
  {
   "cell_type": "code",
   "execution_count": 162,
   "id": "011ddcf9",
   "metadata": {},
   "outputs": [
    {
     "data": {
      "text/plain": [
       "[{'word': 'disparate',\n",
       "  'phonetic': '/ˈdɪsp(ə)ɹət/',\n",
       "  'phonetics': [{'text': '/ˈdɪsp(ə)ɹət/', 'audio': ''},\n",
       "   {'text': '/dɪˈspæɹət/',\n",
       "    'audio': 'https://api.dictionaryapi.dev/media/pronunciations/en/disparate-us.mp3',\n",
       "    'sourceUrl': 'https://commons.wikimedia.org/w/index.php?curid=1545497',\n",
       "    'license': {'name': 'BY-SA 3.0',\n",
       "     'url': 'https://creativecommons.org/licenses/by-sa/3.0'}}],\n",
       "  'meanings': [{'partOfSpeech': 'noun',\n",
       "    'definitions': [{'definition': '(chiefly in the plural) Any of a group of unequal or dissimilar things.',\n",
       "      'synonyms': [],\n",
       "      'antonyms': []}],\n",
       "    'synonyms': [],\n",
       "    'antonyms': []},\n",
       "   {'partOfSpeech': 'adjective',\n",
       "    'definitions': [{'definition': 'Composed of inherently different or distinct elements; incongruous.',\n",
       "      'synonyms': [],\n",
       "      'antonyms': [],\n",
       "      'example': 'The board of the company was decidedly disparate, with no two members from the same social or economic background.'},\n",
       "     {'definition': 'Essentially different; of different species, unlike but not opposed in pairs; also, less properly, utterly unlike; incapable of being compared; having no common genus.',\n",
       "      'synonyms': [],\n",
       "      'antonyms': []}],\n",
       "    'synonyms': ['incongruous',\n",
       "     'mismatched',\n",
       "     'uncoordinated',\n",
       "     'incommensurable',\n",
       "     'different',\n",
       "     'dissimilar',\n",
       "     'unalike'],\n",
       "    'antonyms': []}],\n",
       "  'license': {'name': 'CC BY-SA 3.0',\n",
       "   'url': 'https://creativecommons.org/licenses/by-sa/3.0'},\n",
       "  'sourceUrls': ['https://en.wiktionary.org/wiki/disparate']}]"
      ]
     },
     "execution_count": 162,
     "metadata": {},
     "output_type": "execute_result"
    }
   ],
   "source": [
    "response_new"
   ]
  },
  {
   "cell_type": "code",
   "execution_count": 163,
   "id": "f64b0c24",
   "metadata": {},
   "outputs": [
    {
     "data": {
      "text/plain": [
       "{'word': 'disparate',\n",
       " 'phonetic': '/ˈdɪsp(ə)ɹət/',\n",
       " 'phonetics': [{'text': '/ˈdɪsp(ə)ɹət/', 'audio': ''},\n",
       "  {'text': '/dɪˈspæɹət/',\n",
       "   'audio': 'https://api.dictionaryapi.dev/media/pronunciations/en/disparate-us.mp3',\n",
       "   'sourceUrl': 'https://commons.wikimedia.org/w/index.php?curid=1545497',\n",
       "   'license': {'name': 'BY-SA 3.0',\n",
       "    'url': 'https://creativecommons.org/licenses/by-sa/3.0'}}],\n",
       " 'meanings': [{'partOfSpeech': 'noun',\n",
       "   'definitions': [{'definition': '(chiefly in the plural) Any of a group of unequal or dissimilar things.',\n",
       "     'synonyms': [],\n",
       "     'antonyms': []}],\n",
       "   'synonyms': [],\n",
       "   'antonyms': []},\n",
       "  {'partOfSpeech': 'adjective',\n",
       "   'definitions': [{'definition': 'Composed of inherently different or distinct elements; incongruous.',\n",
       "     'synonyms': [],\n",
       "     'antonyms': [],\n",
       "     'example': 'The board of the company was decidedly disparate, with no two members from the same social or economic background.'},\n",
       "    {'definition': 'Essentially different; of different species, unlike but not opposed in pairs; also, less properly, utterly unlike; incapable of being compared; having no common genus.',\n",
       "     'synonyms': [],\n",
       "     'antonyms': []}],\n",
       "   'synonyms': ['incongruous',\n",
       "    'mismatched',\n",
       "    'uncoordinated',\n",
       "    'incommensurable',\n",
       "    'different',\n",
       "    'dissimilar',\n",
       "    'unalike'],\n",
       "   'antonyms': []}],\n",
       " 'license': {'name': 'CC BY-SA 3.0',\n",
       "  'url': 'https://creativecommons.org/licenses/by-sa/3.0'},\n",
       " 'sourceUrls': ['https://en.wiktionary.org/wiki/disparate']}"
      ]
     },
     "execution_count": 163,
     "metadata": {},
     "output_type": "execute_result"
    }
   ],
   "source": [
    "response_new[0]"
   ]
  },
  {
   "cell_type": "code",
   "execution_count": 164,
   "id": "9be762c0",
   "metadata": {},
   "outputs": [
    {
     "data": {
      "text/plain": [
       "[]"
      ]
     },
     "execution_count": 164,
     "metadata": {},
     "output_type": "execute_result"
    }
   ],
   "source": [
    "response_new[0]['meanings'][0]['antonyms']"
   ]
  },
  {
   "cell_type": "code",
   "execution_count": 165,
   "id": "cfdd00a5",
   "metadata": {},
   "outputs": [],
   "source": [
    "# response_new[0][\"\"]"
   ]
  },
  {
   "cell_type": "code",
   "execution_count": 166,
   "id": "f2804061",
   "metadata": {},
   "outputs": [
    {
     "data": {
      "text/plain": [
       "'noun'"
      ]
     },
     "execution_count": 166,
     "metadata": {},
     "output_type": "execute_result"
    }
   ],
   "source": [
    "part_of_speech= response_new[0]['meanings'][0]['partOfSpeech']\n",
    "part_of_speech"
   ]
  },
  {
   "cell_type": "code",
   "execution_count": 167,
   "id": "a017bb39",
   "metadata": {},
   "outputs": [
    {
     "data": {
      "text/plain": [
       "'(chiefly in the plural) Any of a group of unequal or dissimilar things.'"
      ]
     },
     "execution_count": 167,
     "metadata": {},
     "output_type": "execute_result"
    }
   ],
   "source": [
    "definition1= response_new[0]['meanings'][0]['definitions'][0]['definition']\n",
    "definition1\n"
   ]
  },
  {
   "cell_type": "code",
   "execution_count": 168,
   "id": "02040749",
   "metadata": {},
   "outputs": [
    {
     "ename": "IndexError",
     "evalue": "list index out of range",
     "output_type": "error",
     "traceback": [
      "\u001b[0;31m---------------------------------------------------------------------------\u001b[0m",
      "\u001b[0;31mIndexError\u001b[0m                                Traceback (most recent call last)",
      "\u001b[0;32m/var/folders/h6/2sm42l455mg6zrwjgrtyk4g80000gn/T/ipykernel_3883/714151644.py\u001b[0m in \u001b[0;36m<module>\u001b[0;34m\u001b[0m\n\u001b[1;32m      1\u001b[0m \u001b[0;31m## Thsi one needs some attention\u001b[0m\u001b[0;34m\u001b[0m\u001b[0;34m\u001b[0m\u001b[0m\n\u001b[0;32m----> 2\u001b[0;31m \u001b[0mdefinition2\u001b[0m\u001b[0;34m=\u001b[0m\u001b[0mresponse_new\u001b[0m\u001b[0;34m[\u001b[0m\u001b[0;36m0\u001b[0m\u001b[0;34m]\u001b[0m\u001b[0;34m[\u001b[0m\u001b[0;34m'meanings'\u001b[0m\u001b[0;34m]\u001b[0m\u001b[0;34m[\u001b[0m\u001b[0;36m0\u001b[0m\u001b[0;34m]\u001b[0m\u001b[0;34m[\u001b[0m\u001b[0;34m'definitions'\u001b[0m\u001b[0;34m]\u001b[0m\u001b[0;34m[\u001b[0m\u001b[0;36m1\u001b[0m\u001b[0;34m]\u001b[0m\u001b[0;34m[\u001b[0m\u001b[0;34m'definition'\u001b[0m\u001b[0;34m]\u001b[0m\u001b[0;34m\u001b[0m\u001b[0;34m\u001b[0m\u001b[0m\n\u001b[0m\u001b[1;32m      3\u001b[0m \u001b[0mdefinition2\u001b[0m\u001b[0;34m\u001b[0m\u001b[0;34m\u001b[0m\u001b[0m\n",
      "\u001b[0;31mIndexError\u001b[0m: list index out of range"
     ]
    }
   ],
   "source": [
    "## Thsi one needs some attention. Becuase for some words, it will be out of index as the second element in the list will not be there.\n",
    "definition2=response_new[0]['meanings'][0]['definitions'][1]['definition']\n",
    "definition2\n"
   ]
  },
  {
   "cell_type": "code",
   "execution_count": 169,
   "id": "feae960b",
   "metadata": {},
   "outputs": [
    {
     "data": {
      "text/plain": [
       "[]"
      ]
     },
     "execution_count": 169,
     "metadata": {},
     "output_type": "execute_result"
    }
   ],
   "source": [
    "synonyms= response_new[0]['meanings'][0]['synonyms']\n",
    "synonyms"
   ]
  },
  {
   "cell_type": "code",
   "execution_count": 170,
   "id": "83188230",
   "metadata": {},
   "outputs": [
    {
     "data": {
      "text/plain": [
       "[]"
      ]
     },
     "execution_count": 170,
     "metadata": {},
     "output_type": "execute_result"
    }
   ],
   "source": [
    "antonyms= response_new[0]['meanings'][0]['antonyms']\n",
    "antonyms"
   ]
  },
  {
   "cell_type": "markdown",
   "id": "cb9200cd",
   "metadata": {},
   "source": [
    "Remember that you will not need the Synonym and Antonym all the time, so there will be a trade off between using the free API. But you can include a situation in which you can call the OPENAI if there is not word. But try to use the mininal model.\n"
   ]
  },
  {
   "cell_type": "code",
   "execution_count": null,
   "id": "16827f79",
   "metadata": {},
   "outputs": [],
   "source": []
  }
 ],
 "metadata": {
  "kernelspec": {
   "display_name": "Python 3 (ipykernel)",
   "language": "python",
   "name": "python3"
  },
  "language_info": {
   "codemirror_mode": {
    "name": "ipython",
    "version": 3
   },
   "file_extension": ".py",
   "mimetype": "text/x-python",
   "name": "python",
   "nbconvert_exporter": "python",
   "pygments_lexer": "ipython3",
   "version": "3.9.7"
  }
 },
 "nbformat": 4,
 "nbformat_minor": 5
}
